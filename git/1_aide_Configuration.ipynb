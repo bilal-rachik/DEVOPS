{
  "nbformat": 4,
  "nbformat_minor": 0,
  "metadata": {
    "colab": {
      "name": "1_aide_Configuration.ipynb",
      "provenance": []
    },
    "kernelspec": {
      "name": "python3",
      "display_name": "Python 3"
    },
    "language_info": {
      "name": "python"
    }
  },
  "cells": [
    {
      "cell_type": "markdown",
      "metadata": {
        "id": "3irxxnA6ymgO"
      },
      "source": [
        "# L’aide de Git\n",
        "\n",
        "## 1. Généralités\n",
        "Après avoir installé Git, il est très utile de savoir accéder à l’aide de Git. En effet, en lisant les prochains guides vous aurez peut-être besoin d’obtenir plus d’informations sur une commande et pour cela vous aurez besoin de l’aide. Pour afficher l’aide générale qui liste les commandes principales de Git, il faut utiliser la commande suivante (équivalente à la commande git seule ou encore à git help) :\n",
        "\n",
        "    git --help\n",
        "\n",
        "Ci-dessous un exemple des trois premières commandes proposées :\n",
        "\n",
        "    add        Add file contents to the index \n",
        "    bisect     Find by binary search the change that introduced a bug \n",
        "    branch     List, create, or delete branches \n",
        "\n",
        "Cette commande permet d’avoir une liste et une explication brève (anglophone) des commandes principales de Git.\n",
        "\n",
        "Pour obtenir une aide très complète sur une commande spécifique de Git, il faut utiliser la syntaxe suivante :\n",
        "\n",
        "    git commande_git --help \n",
        "Par exemple, pour obtenir de l’aide sur la commande git add, il faut utiliser la commande suivante :\n",
        "\n",
        "    git add --help \n",
        "Le résultat de cette commande représente un important volume de texte mais est découpé en plusieurs parties présentées ci-dessous :\n",
        "\n",
        "**NAME** : présente le nom de la commande et la brève description présente dans la commande git --help.\n",
        "\n",
        "**SYNOPSIS** : présente la syntaxe détaillée de la commande et de ses options. \n",
        "\n",
        "**DESCRIPTIONS** : présente une explication complète des fonctionnalités de la commande.\n",
        "\n",
        "**OPTIONS** : présente les options disponibles et décrit précisément pour chacune d’elles, sa fonctionnalité.\n",
        "\n",
        "**CONFIGURATION** : présente les interactions avec la configuration de Git. Par exemple, la variable de configuration core.excludesfiles empêche git addd’ajouter certains fichiers.\n",
        "\n",
        "**EXAMPLES** : présente des exemples d’utilisation de la commande avec une explication de l’exemple.\n",
        "\n",
        "**SEE ALSO** : présente des commandes en corrélation avec la commande dont l’aide est affichée.\n",
        "\n",
        "D’autres parties de l’aide existent en fonction de la commande. L’aide est très complète et permet d’explorer les fonctionnalités évoluées de chaque commande. \n",
        "\n",
        "## 2. Types de commandes Git\n",
        "Git propose un certain nombre de commandes qui sont divisées en deux catégories :\n",
        "\n",
        "les commandes de porcelaine (porcelain command en anglais),\n",
        "\n",
        "les commandes de plomberie (plumbing commands en anglais).\n",
        "\n",
        "## a. Les commandes de porcelaine\n",
        "Ces commandes sont des commandes de haut niveau. Ce sont les commandes qui sont utilisées au quotidien et pour lesquelles Git propose un certain nombre de contrôles. Par exemple, git commit et git add sont des commandes de porcelaine.\n",
        "\n",
        "## b. Les commandes de plomberie\n",
        "Ces commandes sont des commandes de bas niveau, c’est-à-dire qu’elles manipulent directement les informations qui sont au cœur de Git. Ces commandes peuvent être destructrices pour le dépôt et sont généralement mises en œuvre par les utilisateurs maîtrisant Git.\n",
        "\n",
        "## Aide des commandes de plomberie\n",
        "\n",
        "Par défaut, la commande git help ne renvoie pas les commandes de plomberie. Pour afficher toutes les commandes de Git (commandes de porcelaine et de plomberie), il faut utiliser le paramètre -a (ou --all) avec la commande git help :\n",
        "\n",
        "git help -a \n",
        "Cette commande affiche une liste de toutes les commandes de Git."
      ]
    },
    {
      "cell_type": "markdown",
      "metadata": {
        "id": "mZlXK0kvz_XO"
      },
      "source": [
        "## Configuration requise\n",
        "\n",
        "il existe deux paramètres de configuration qui sont nécessaires avant toute utilisation de Git. Ces paramètres de configuration sont l’adresse e-mail de l’utilisateur du dépôt et son nom. Pour qu’à la fin de ce guide l’installation de Git soit fonctionnelle, il est nécessaire d’effectuer cette configuration.\n",
        "\n",
        "## 1. Configurer le nom de l’utilisateur\n",
        "Pour cela, il faut utiliser la commande suivante :\n",
        "\n",
        "    git config --global user.name \"Prenom Nom\" \n",
        "## 2. Configurer l’e-mail de l’utilisateur\n",
        "Pour cela, il faut utiliser la commande suivante :\n",
        "\n",
        "    git config --global user.email email@domaine.extension \n",
        "Il est nécessaire de placer cette étape de configuration ici pour permettre aux lecteurs qui le souhaitent de suivre le mode de lecture rapide (comme expliqué dans l’avant-propos).\n",
        "\n"
      ]
    },
    {
      "cell_type": "markdown",
      "metadata": {
        "id": "IKpso2iu0nRG"
      },
      "source": [
        "## Créer un dépôt local\n",
        "Pour tout nouveau projet que l’on souhaite versionner, il est nécessaire de créer un nouveau dépôt. C’est ensuite dans ce dépôt que Git stockera toutes nos informations. Pour cela, il faut se placer dans le dossier racine du projet. Par exemple, si le projet est un site web simple, nous pouvons imaginer que le dossier qui contiendra le projet soit nommé www. Dans notre cas, le dossier qui va contenir le code du projet se nomme depot. Il faut donc se placer dans ce dossier et exécuter la commande suivante :\n",
        "\n",
        "    git init \n",
        "Git confirme la création du dépôt avec le message suivant :\n",
        "\n",
        "    Initialized empty Git repository in /Users/dauzon/Projets/depot/.git/ \n",
        "Cette action va créer un dossier nommé .git à la racine du projet. Sur la plupart des explorateurs de fichiers, ce dossier est par défaut invisible. Vous pouvez utiliser la ligne de commande pour visualiser ce dossier avec la commande ls -la pour les systèmes Linux ou mac OS, mais également pour Windows en utilisant l’outil Cygwin.\n",
        "\n",
        "Par défaut, la création d’un dépôt crée automatiquement une branche master. Pour changer le nom de cette branche, il est possible de définir l’option de configuration init.defaultBranch comme dans l’exemple ci-dessous.\n",
        "\n",
        "    git config --global init.defaultBranch main \n",
        "    touch README.md \n",
        "    git init \n",
        "    Dépôt Git vide initialisé dans /Users/dauzon/git3eme/.git/ \n",
        "    git add README.md \n",
        "    git commit -m \"README : add file\" \n",
        "    [main (commit racine) e18c7a7] README : add file \n",
        "    1 file changed, 0 insertions(+), 0 deletions(-) \n",
        "    create mode 100644 README.md \n",
        "  git branch \n",
        "  * main "
      ]
    }
  ]
}